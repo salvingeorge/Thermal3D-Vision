{
 "cells": [
  {
   "cell_type": "markdown",
   "metadata": {},
   "source": [
    "# Qualitative Evaluation with Finetuned DUSt3R Model for AIS Thermal Images"
   ]
  },
  {
   "cell_type": "markdown",
   "metadata": {},
   "source": [
    "### Submitted by, \n",
    "- Pallavi Aithal Narayan\n",
    "- Salvin George"
   ]
  },
  {
   "cell_type": "markdown",
   "metadata": {
    "vscode": {
     "languageId": "plaintext"
    }
   },
   "source": [
    "## FLIR_BOSON"
   ]
  },
  {
   "cell_type": "markdown",
   "metadata": {},
   "source": [
    "With the Freiburg dataset, the model is performing really well we can see in the overview.ipynb. But, when we tried to experiment with the AIS Drone images, we came across a set of problems."
   ]
  },
  {
   "cell_type": "markdown",
   "metadata": {},
   "source": [
    "### Finetuned model without any preprocessing"
   ]
  },
  {
   "cell_type": "markdown",
   "metadata": {},
   "source": [
    "With just the fine tuned model, we were directly loaded the model into model, the generated output was able to capture some information regarding structure and distance.\n",
    "<img src=\"../submission/AIS_DATA/FLIR_BOSON/s2/original/s2_t_10_depth_vis.png\">\n",
    "\n",
    "As you can, the output is very pixalated, but we are able to see some information. But, the image is showing the depth information inverted. So, our next step was to invert the colour to represent the depth efficiently. Also, maximum depth it acquired is at 5.5 units."
   ]
  },
  {
   "cell_type": "markdown",
   "metadata": {},
   "source": [
    "### Preprocessing : Thermal specific enhancement for depth estimation"
   ]
  },
  {
   "cell_type": "markdown",
   "metadata": {},
   "source": [
    "We observed that the this new images have the thermal reading higher or intense than the dataset the finetuned DUSt3R model was trained on. Due to that, these images needed special preprocessing as it also had fires in the images. So, that is not something that was observed in the Freiburg Dataset. So, it was needed to process these differences through a set of procedures.\n",
    "1. Temperature normalization\n",
    "2. Edge enhancements\n",
    "3. Fire-specific processing to help the model to handle high temperature regions\n",
    "\n",
    "The output image is given below.\n",
    "\n",
    "<img src=\"../submission/AIS_DATA/FLIR_BOSON/s2/preprocess_for_colour_inversion/s2_t_10_depth_vis.png\">"
   ]
  },
  {
   "cell_type": "markdown",
   "metadata": {},
   "source": [
    "Through this preprocessing, even though it is not performing as efficiently as the Freiburg images, it is capturing more information than with just the finetuned model. Also, it is also able to capture the region around the file also easily with relatively correct estimation. Also, it has recognized the depth upto 14 units. "
   ]
  },
  {
   "cell_type": "markdown",
   "metadata": {
    "vscode": {
     "languageId": "plaintext"
    }
   },
   "source": [
    "### Postprocessing: \n",
    "One other thing that was observed in this was that the model is generating images in a blocky structure and it gets confusing as well. So, handle this irregularity, we decided to do implement a post processing to remove outliers and inconsisencies while ensuring the depth map possesses the depth structures from the original thermal images. \n",
    "<img src=\"../submission/AIS_DATA/FLIR_BOSON/s2/second_preprocess_with_outlier_removed/s2_t_10_depth_vis.png\">"
   ]
  },
  {
   "cell_type": "markdown",
   "metadata": {},
   "source": [
    "Through this step, the model was able to capture more clear information about the depth than with just the preprocessing"
   ]
  },
  {
   "cell_type": "markdown",
   "metadata": {},
   "source": [
    "### Sequence 0\n",
    "<img src=\"../submission/AIS_DATA/FLIR_BOSON/s0/final/s0_t_1_depth_vis.png\">\n",
    "<img src=\"../submission/AIS_DATA/FLIR_BOSON/s0/final/s0_t_8_depth_vis.png\">\n",
    "\n",
    "\n",
    "### Sequence 1\n",
    "<img src=\"../submission/AIS_DATA/FLIR_BOSON/s1/final/s1_t_0_depth_vis.png\">\n",
    "<img src=\"../submission/AIS_DATA/FLIR_BOSON/s1/final/s1_t_8_depth_vis.png\">\n",
    "\n",
    "### Sequence 2\n",
    "<img src=\"../submission/AIS_DATA/FLIR_BOSON/s2/second_preprocess_with_outlier_removed/s2_t_10_depth_vis.png\">\n",
    "<img src=\"../submission/AIS_DATA/FLIR_BOSON/s2/second_preprocess_with_outlier_removed/s2_t_11_depth_vis.png\">\n",
    "\n",
    "\n"
   ]
  },
  {
   "cell_type": "markdown",
   "metadata": {
    "vscode": {
     "languageId": "plaintext"
    }
   },
   "source": [
    "## siyi_z6t"
   ]
  },
  {
   "cell_type": "markdown",
   "metadata": {
    "vscode": {
     "languageId": "plaintext"
    }
   },
   "source": [
    "<img src=\"../submission/AIS_DATA/siyi_z6t/t_00243_depth_vis.png\">\n",
    "<img src=\"../submission/AIS_DATA/siyi_z6t/t_00480_depth_vis.png\">\n",
    "<img src=\"../submission/AIS_DATA/siyi_z6t/t_02260_depth_vis.png\">\n",
    "\n"
   ]
  }
 ],
 "metadata": {
  "language_info": {
   "name": "python"
  }
 },
 "nbformat": 4,
 "nbformat_minor": 2
}
